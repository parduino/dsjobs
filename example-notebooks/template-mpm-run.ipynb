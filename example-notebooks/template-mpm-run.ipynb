{
 "cells": [
  {
   "cell_type": "markdown",
   "id": "4efabb5e",
   "metadata": {},
   "source": [
    "# Templatized notebook for running CB-Geo MPM TAPIS job"
   ]
  },
  {
   "cell_type": "markdown",
   "id": "abe5d8a3-32da-4233-b605-9fd51d053ec1",
   "metadata": {},
   "source": [
    "## Install DSJobs"
   ]
  },
  {
   "cell_type": "code",
   "execution_count": 21,
   "id": "b7fa3e9a-7bf3-441c-917f-fb57a94ee017",
   "metadata": {},
   "outputs": [
    {
     "name": "stdout",
     "output_type": "stream",
     "text": [
      "\n",
      "\u001b[1m[\u001b[0m\u001b[34;49mnotice\u001b[0m\u001b[1;39;49m]\u001b[0m\u001b[39;49m A new release of pip is available: \u001b[0m\u001b[31;49m23.2.1\u001b[0m\u001b[39;49m -> \u001b[0m\u001b[32;49m23.3.1\u001b[0m\n",
      "\u001b[1m[\u001b[0m\u001b[34;49mnotice\u001b[0m\u001b[1;39;49m]\u001b[0m\u001b[39;49m To update, run: \u001b[0m\u001b[32;49mpip install --upgrade pip\u001b[0m\n"
     ]
    }
   ],
   "source": [
    "!pip install dsjobs --quiet"
   ]
  },
  {
   "cell_type": "markdown",
   "id": "dd802d14-8cb5-49e7-b43c-1c21ac253961",
   "metadata": {},
   "source": [
    "## Modify MPM Job parameters\n",
    "\n",
    "> Only change the cell below"
   ]
  },
  {
   "cell_type": "code",
   "execution_count": 22,
   "id": "8593c08c-c96a-4a66-9b52-80b8b5c27e44",
   "metadata": {
    "tags": [
     "parameters"
    ]
   },
   "outputs": [],
   "source": [
    "# Default parameters for the MPM template notebook\n",
    "path: str = \"/MyData/mpm-benchmarks/2d/uniaxial_stress/\"  # path to input file\n",
    "\n",
    "input_file: str = \"mpm.json\"  # input file.json\n",
    "\n",
    "duration: str = \"00:10:00\"  # Runtime duration ('HH:MM:SS')\n",
    "\n",
    "# The parameters modified in your job will be included in the cell below."
   ]
  },
  {
   "cell_type": "markdown",
   "id": "89d9596b-1c14-4d0c-a127-ee6c46da2671",
   "metadata": {},
   "source": [
    "## Imports"
   ]
  },
  {
   "cell_type": "code",
   "execution_count": 23,
   "id": "91b811a4-45d9-4223-a145-c0f4e393af66",
   "metadata": {},
   "outputs": [],
   "source": [
    "from agavepy.agave import Agave\n",
    "import dsjobs as ds\n",
    "import json\n",
    "import os"
   ]
  },
  {
   "cell_type": "markdown",
   "id": "14a18561-3bf7-4605-a6f4-98ab0b99af10",
   "metadata": {},
   "source": [
    "## Configure and run MPM job"
   ]
  },
  {
   "cell_type": "code",
   "execution_count": 24,
   "id": "0153c5cc-f4b9-460b-b4c6-d92eb8c6ede5",
   "metadata": {},
   "outputs": [
    {
     "name": "stdout",
     "output_type": "stream",
     "text": [
      "\n",
      "---Job Info---\n",
      "\n",
      "{\n",
      "  \"appId\": \"mpm-1.0.0\",\n",
      "  \"name\": \"mpm-uniaxial\",\n",
      "  \"batchQueue\": \"skx-dev\",\n",
      "  \"nodeCount\": 1,\n",
      "  \"processorsPerNode\": 1,\n",
      "  \"memoryPerNode\": \"1\",\n",
      "  \"maxRunTime\": \"00:10:00\",\n",
      "  \"archive\": true,\n",
      "  \"inputs\": {\n",
      "    \"inputDirectory\": [\n",
      "      \"agave://designsafe.storage.default/kks32/mpm-benchmarks/2d/uniaxial_stress/\"\n",
      "    ]\n",
      "  },\n",
      "  \"parameters\": {\n",
      "    \"inputfile\": [\n",
      "      \"mpm.json\"\n",
      "    ]\n",
      "  }\n",
      "}\n"
     ]
    }
   ],
   "source": [
    "# authenticate\n",
    "ag = Agave.restore()\n",
    "\n",
    "# generate and modify job info\n",
    "job_info = ds.generate_job_info(\n",
    "    ag, appid=\"mpm-1.0.0\", jobname=\"mpm-uniaxial\", runtime=duration\n",
    ")\n",
    "\n",
    "# specify input path and file\n",
    "job_info[\"inputs\"] = {\"inputDirectory\": [ds.get_ds_path_uri(ag, path)]}\n",
    "job_info[\"parameters\"] = {\"inputfile\": [input_file]}\n",
    "print(\"\\n---Job Info---\\n\\n\" + json.dumps(job_info, indent=2))"
   ]
  },
  {
   "cell_type": "markdown",
   "id": "9851e692-2ba8-4cb0-887f-b639ba8832d2",
   "metadata": {},
   "source": [
    "## Submit and monitor job status"
   ]
  },
  {
   "cell_type": "code",
   "execution_count": 25,
   "id": "4e6dc010-d821-45d5-805b-84620363f468",
   "metadata": {},
   "outputs": [],
   "source": [
    "job = ag.jobs.submit(body=job_info)"
   ]
  },
  {
   "cell_type": "code",
   "execution_count": 26,
   "id": "06dd17dc-2540-46b3-9036-3245a9b6cfae",
   "metadata": {},
   "outputs": [
    {
     "name": "stderr",
     "output_type": "stream",
     "text": [
      "Waiting for job to start: 2it [00:30, 15.13s/it, Status: RUNNING]   \n",
      "Monitoring job:   0%|                                                        | 0/40 [00:00<?, ?it/s]"
     ]
    },
    {
     "name": "stdout",
     "output_type": "stream",
     "text": [
      "\tStatus: RUNNING\n"
     ]
    },
    {
     "name": "stderr",
     "output_type": "stream",
     "text": [
      "Monitoring job:  10%|████▊                                           | 4/40 [01:00<09:04, 15.13s/it]"
     ]
    },
    {
     "name": "stdout",
     "output_type": "stream",
     "text": [
      "\tStatus: ARCHIVING\n"
     ]
    },
    {
     "name": "stderr",
     "output_type": "stream",
     "text": [
      "Monitoring job:  12%|██████                                          | 5/40 [01:15<08:50, 15.15s/it]"
     ]
    },
    {
     "name": "stdout",
     "output_type": "stream",
     "text": [
      "\tStatus: FINISHED\n"
     ]
    },
    {
     "name": "stderr",
     "output_type": "stream",
     "text": [
      "\n"
     ]
    },
    {
     "data": {
      "text/plain": [
       "'FINISHED'"
      ]
     },
     "execution_count": 26,
     "metadata": {},
     "output_type": "execute_result"
    }
   ],
   "source": [
    "ds.get_status(ag, job[\"id\"])"
   ]
  },
  {
   "cell_type": "code",
   "execution_count": 27,
   "id": "614f3568-d290-44d9-896d-608375293a58",
   "metadata": {},
   "outputs": [
    {
     "name": "stdout",
     "output_type": "stream",
     "text": [
      "Runtime Summary\n",
      "---------------\n",
      "PENDING             time: 0:00:00\n",
      "PROCESSING_INPUTS   time: 0:00:03\n",
      "STAGING_INPUTS      time: 0:00:05\n",
      "STAGED              time: 0:00:00\n",
      "STAGING_JOB         time: 0:00:03\n",
      "SUBMITTING          time: 0:00:06\n",
      "QUEUED              time: 0:00:05\n",
      "RUNNING             time: 0:01:09\n",
      "CLEANING_UP         time: 0:00:00\n",
      "ARCHIVING           time: 0:00:08\n",
      "TOTAL               time: 0:01:39\n",
      "---------------\n"
     ]
    }
   ],
   "source": [
    "ds.runtime_summary(ag, job[\"id\"])"
   ]
  },
  {
   "cell_type": "code",
   "execution_count": null,
   "id": "5e2c642e-88c3-42be-acb6-2966cc31f90c",
   "metadata": {},
   "outputs": [],
   "source": [
    "ag.jobs.get(jobId=job[\"id\"])[\"lastStatusMessage\"]"
   ]
  },
  {
   "cell_type": "markdown",
   "id": "798bd1bc-44e9-4e2f-b999-0ecf3ee769a4",
   "metadata": {},
   "source": [
    "## Archive path to view output results"
   ]
  },
  {
   "cell_type": "code",
   "execution_count": 20,
   "id": "daf7f33a-594c-4a69-b2d3-bc39a434d154",
   "metadata": {},
   "outputs": [
    {
     "data": {
      "text/plain": [
       "'/home/jupyter/MyData/archive/jobs/job-8d70a2b2-9295-4233-bade-9cc1834e9603-007'"
      ]
     },
     "execution_count": 20,
     "metadata": {},
     "output_type": "execute_result"
    }
   ],
   "source": [
    "# Get local archive path on DesignSafe\n",
    "archive_path = ds.get_archive_path(ag, job[\"id\"])\n",
    "# Navigate to results folder\n",
    "os.chdir(archive_path)\n",
    "# Print current directory\n",
    "os.getcwd()"
   ]
  }
 ],
 "metadata": {
  "IMAGE_NAME": "taccsciapps/ds-nb-img:base-0.1.3",
  "UUID": "ad99fe82-d690-11ec-8bc3-165d4cd45074",
  "kernelspec": {
   "display_name": "Python 3 (ipykernel)",
   "language": "python",
   "name": "python3"
  },
  "language_info": {
   "codemirror_mode": {
    "name": "ipython",
    "version": 3
   },
   "file_extension": ".py",
   "mimetype": "text/x-python",
   "name": "python",
   "nbconvert_exporter": "python",
   "pygments_lexer": "ipython3",
   "version": "3.9.10"
  }
 },
 "nbformat": 4,
 "nbformat_minor": 5
}
