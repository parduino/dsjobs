{
 "cells": [
  {
   "cell_type": "markdown",
   "id": "b4847f48-451b-4b9a-96c8-a4cfcfbe56ba",
   "metadata": {},
   "source": [
    "# Executing templatized MPM notebook\n",
    "\n",
    "> This example shows how to run MPM code on HPC cluster using a templatized notebook by passing input path."
   ]
  },
  {
   "cell_type": "code",
   "execution_count": 1,
   "id": "79aac18b-20ea-4a89-b9e9-85d50d69d84a",
   "metadata": {},
   "outputs": [],
   "source": [
    "!pip install papermill --quiet"
   ]
  },
  {
   "cell_type": "code",
   "execution_count": 2,
   "id": "308dfdd7-f3b8-449f-af8c-e190307dff90",
   "metadata": {},
   "outputs": [],
   "source": [
    "import papermill as pm"
   ]
  },
  {
   "cell_type": "markdown",
   "id": "9d155cf6-4d18-4cbb-872a-bf06ff8c1704",
   "metadata": {},
   "source": [
    "## Inspect Templatized notebook"
   ]
  },
  {
   "cell_type": "code",
   "execution_count": 3,
   "id": "5ee38f0d-b42f-4a15-b6b4-27f06afbce09",
   "metadata": {},
   "outputs": [
    {
     "name": "stdout",
     "output_type": "stream",
     "text": [
      "{\n",
      "  \"path\": {\n",
      "    \"name\": \"path\",\n",
      "    \"inferred_type_name\": \"str\",\n",
      "    \"default\": \"'/MyData/mpm-benchmarks/2d/uniaxial_stress/'\",\n",
      "    \"help\": \"path to input file\"\n",
      "  },\n",
      "  \"input_file\": {\n",
      "    \"name\": \"input_file\",\n",
      "    \"inferred_type_name\": \"str\",\n",
      "    \"default\": \"'mpm.json'\",\n",
      "    \"help\": \"input file.json\"\n",
      "  }\n",
      "}\n"
     ]
    }
   ],
   "source": [
    "# Parameters available to modify in the templatized notebook\n",
    "import json\n",
    "\n",
    "print(json.dumps(pm.inspect_notebook(\"template-mpm-run.ipynb\"), indent=2))"
   ]
  },
  {
   "cell_type": "markdown",
   "id": "dd2b30ef-4bed-4843-9fb2-bb6536c9c238",
   "metadata": {},
   "source": [
    "## Execute template MPM notebook"
   ]
  },
  {
   "cell_type": "code",
   "execution_count": 4,
   "id": "455571f2-daa2-4099-95a7-3518003e833a",
   "metadata": {},
   "outputs": [
    {
     "data": {
      "application/vnd.jupyter.widget-view+json": {
       "model_id": "51a8b21830b54c058a36a1ccfa56cc5b",
       "version_major": 2,
       "version_minor": 0
      },
      "text/plain": [
       "Executing:   0%|          | 0/13 [00:00<?, ?cell/s]"
      ]
     },
     "metadata": {},
     "output_type": "display_data"
    }
   ],
   "source": [
    "pm.execute_notebook(\n",
    "    \"template-mpm-run.ipynb\",  # input template notebook\n",
    "    \"mpm1.ipynb\",  # Your modified notebook\n",
    "    # Parameters that you can specify in the template notebook\n",
    "    parameters=dict(path=\"/MyData/mpm-benchmarks/2d/uniaxial_stress/\"),\n",
    ")"
   ]
  }
 ],
 "metadata": {
  "IMAGE_NAME": "taccsciapps/ds-nb-img:base-0.1.2",
  "UUID": "5c6ea4e0-6dde-11ee-b4d3-9a799580253c",
  "kernelspec": {
   "display_name": "Python 3 (ipykernel)",
   "language": "python",
   "name": "python3"
  },
  "language_info": {
   "codemirror_mode": {
    "name": "ipython",
    "version": 3
   },
   "file_extension": ".py",
   "mimetype": "text/x-python",
   "name": "python",
   "nbconvert_exporter": "python",
   "pygments_lexer": "ipython3",
   "version": "3.9.10"
  }
 },
 "nbformat": 4,
 "nbformat_minor": 5
}
